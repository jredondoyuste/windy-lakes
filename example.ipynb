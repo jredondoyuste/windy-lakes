{
 "cells": [
  {
   "attachments": {},
   "cell_type": "markdown",
   "metadata": {},
   "source": [
    "# How does light reflect on the lakes of Copenhagen?\n",
    "\n",
    "Here we examine this question using Ray-Tracing!\n",
    "\n",
    "The source term contains the details (documentation in progress), here are some results."
   ]
  },
  {
   "cell_type": "code",
   "execution_count": 1,
   "metadata": {},
   "outputs": [],
   "source": [
    "from src import *"
   ]
  },
  {
   "attachments": {},
   "cell_type": "markdown",
   "metadata": {},
   "source": [
    "We define first a lake. The units of the problem are meters. We define a noise_level (how wavy is the water), and a wind_level (how tall are the waves). \n",
    "If the results don't look good, decrease the stepsize. \n",
    "\n",
    "Then, we define a source. So far only a uniform and a Gaussian source have been implemented, but this can easily be expanded. \n",
    "\n",
    "Then we define a screen. This would be our eyes, standing somewhat far away from the lake and at a given height. It is important to put y_fake < 0 (the position of the \"fake\" screen where we project the brightness of the reflected rays). \n",
    "\n",
    "The plot method of the screen object shows a nice plot: black for the screen, blue for the lake. Feel free to play around this. "
   ]
  },
  {
   "cell_type": "code",
   "execution_count": 2,
   "metadata": {},
   "outputs": [
    {
     "name": "stdout",
     "output_type": "stream",
     "text": [
      "Updating screen...\n"
     ]
    },
    {
     "name": "stderr",
     "output_type": "stream",
     "text": [
      "100%|██████████| 1001/1001 [01:00<00:00, 16.65it/s]\n"
     ]
    },
    {
     "name": "stdout",
     "output_type": "stream",
     "text": [
      "Plotting ...\n"
     ]
    },
    {
     "data": {
      "image/png": "[encoded data removed]",
      "text/plain": [
       "<Figure size 600x600 with 1 Axes>"
      ]
     },
     "metadata": {},
     "output_type": "display_data"
    }
   ],
   "source": [
    "l = Lake(L = 50, noise_level = 7, wind_level=0.2, stepsize=0.05)\n",
    "s = Source(x0 = -5, height = 15, size = 1, brightness_type='gaussian')\n",
    "C = Screen(x0 = 52, H = 6, y_fake=-1, pixel=0.05)\n",
    "C.update(l, s)\n",
    "C.plot(s, l)"
   ]
  }
 ],
 "metadata": {
  "kernelspec": {
   "display_name": "Python 3.10.9 64-bit",
   "language": "python",
   "name": "python3"
  },
  "language_info": {
   "codemirror_mode": {
    "name": "ipython",
    "version": 3
   },
   "file_extension": ".py",
   "mimetype": "text/x-python",
   "name": "python",
   "nbconvert_exporter": "python",
   "pygments_lexer": "ipython3",
   "version": "3.10.9"
  },
  "orig_nbformat": 4,
  "vscode": {
   "interpreter": {
    "hash": "b0fa6594d8f4cbf19f97940f81e996739fb7646882a419484c72d19e05852a7e"
   }
  }
 },
 "nbformat": 4,
 "nbformat_minor": 2
}
